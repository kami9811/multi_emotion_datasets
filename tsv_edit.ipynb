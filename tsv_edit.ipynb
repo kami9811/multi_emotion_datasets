{
 "cells": [
  {
   "cell_type": "code",
   "execution_count": 15,
   "id": "b84e38de-7f0d-4b6c-8c43-e5fbe5c8e640",
   "metadata": {},
   "outputs": [],
   "source": [
    "import pandas as pd\n",
    "import math\n",
    "import numpy as np\n",
    "\n",
    "df = pd.read_csv('wrime.csv')\n",
    "df_prime = pd.read_csv('wrime.csv')\n",
    "\n",
    "for index, column in enumerate(df.columns):\n",
    "    if index > 3:\n",
    "        df_prime[(column)] = round(df[(column)] / 3)\n",
    "        # df_prime[(column)] = np.ceil(df[(column)] / 3)\n",
    "# df_prime"
   ]
  },
  {
   "cell_type": "code",
   "execution_count": 16,
   "id": "4d42f34b-b9ce-431f-928b-b1ed42fe1e24",
   "metadata": {},
   "outputs": [],
   "source": [
    "csvname = 'wrime_zero-one.csv'\n",
    "# csvname = 'wrime_zero-one_all.csv'\n",
    "df_prime.to_csv(csvname)"
   ]
  },
  {
   "cell_type": "code",
   "execution_count": 17,
   "id": "e209e6f5-3038-4e93-8a7b-c709a5b840d2",
   "metadata": {},
   "outputs": [],
   "source": [
    "import json\n",
    "import time\n",
    "import pickle\n",
    "import itertools\n",
    "from tqdm import tqdm\n",
    "import csv"
   ]
  },
  {
   "cell_type": "code",
   "execution_count": 18,
   "id": "5e9feae4-17ac-4ddb-af92-5bdcb3313849",
   "metadata": {},
   "outputs": [],
   "source": [
    "picklename = 'wrime_zero-one_avg.pickle'\n",
    "# picklename = 'wrime_zero-one_avg_all.pickle'"
   ]
  },
  {
   "cell_type": "code",
   "execution_count": 19,
   "id": "8335b766-96a3-4862-a380-ec59b37e23b9",
   "metadata": {},
   "outputs": [],
   "source": [
    "chunk_size = 100\n",
    "with open(csvname, 'r') as csv_file:\n",
    "    csv_reader = csv.reader(csv_file)\n",
    "    dataset = list(csv_reader)\n",
    "alldata = []"
   ]
  },
  {
   "cell_type": "code",
   "execution_count": 148,
   "id": "fac2eba0-84da-4bd7-a36b-f329e7effba3",
   "metadata": {},
   "outputs": [
    {
     "ename": "KeyError",
     "evalue": "\"Invalid key: slice(1, None, None). Please first select a split. For example: `my_dataset_dictionary['train'][slice(1, None, None)]`. Available splits: ['test', 'train', 'validation']\"",
     "output_type": "error",
     "traceback": [
      "\u001b[0;31m---------------------------------------------------------------------------\u001b[0m",
      "\u001b[0;31mKeyError\u001b[0m                                  Traceback (most recent call last)",
      "\u001b[0;32m/var/folders/f4/vg8kf0cs5fxcv248s_99x8nw0000gn/T/ipykernel_16941/3469859007.py\u001b[0m in \u001b[0;36m<module>\u001b[0;34m\u001b[0m\n\u001b[0;32m----> 1\u001b[0;31m \u001b[0;32mwith\u001b[0m \u001b[0mtqdm\u001b[0m\u001b[0;34m(\u001b[0m\u001b[0mtotal\u001b[0m\u001b[0;34m=\u001b[0m\u001b[0mlen\u001b[0m\u001b[0;34m(\u001b[0m\u001b[0mdataset\u001b[0m\u001b[0;34m[\u001b[0m\u001b[0;36m1\u001b[0m\u001b[0;34m:\u001b[0m\u001b[0;34m]\u001b[0m\u001b[0;34m)\u001b[0m\u001b[0;34m)\u001b[0m \u001b[0;32mas\u001b[0m \u001b[0mpbar\u001b[0m\u001b[0;34m:\u001b[0m\u001b[0;34m\u001b[0m\u001b[0;34m\u001b[0m\u001b[0m\n\u001b[0m\u001b[1;32m      2\u001b[0m     \u001b[0;32mfor\u001b[0m \u001b[0mbatch\u001b[0m \u001b[0;32min\u001b[0m \u001b[0mitertools\u001b[0m\u001b[0;34m.\u001b[0m\u001b[0mzip_longest\u001b[0m\u001b[0;34m(\u001b[0m\u001b[0;34m*\u001b[0m\u001b[0;34m[\u001b[0m\u001b[0miter\u001b[0m\u001b[0;34m(\u001b[0m\u001b[0mdataset\u001b[0m\u001b[0;34m[\u001b[0m\u001b[0;36m1\u001b[0m\u001b[0;34m:\u001b[0m\u001b[0;34m]\u001b[0m\u001b[0;34m)\u001b[0m\u001b[0;34m]\u001b[0m\u001b[0;34m*\u001b[0m\u001b[0mchunk_size\u001b[0m\u001b[0;34m)\u001b[0m\u001b[0;34m:\u001b[0m\u001b[0;34m\u001b[0m\u001b[0;34m\u001b[0m\u001b[0m\n\u001b[1;32m      3\u001b[0m         \u001b[0mbatch\u001b[0m \u001b[0;34m=\u001b[0m \u001b[0;34m[\u001b[0m\u001b[0mb\u001b[0m \u001b[0;32mfor\u001b[0m \u001b[0mb\u001b[0m \u001b[0;32min\u001b[0m \u001b[0mbatch\u001b[0m \u001b[0;32mif\u001b[0m \u001b[0mb\u001b[0m \u001b[0;32mis\u001b[0m \u001b[0;32mnot\u001b[0m \u001b[0;32mNone\u001b[0m\u001b[0;34m]\u001b[0m\u001b[0;34m\u001b[0m\u001b[0;34m\u001b[0m\u001b[0m\n\u001b[1;32m      4\u001b[0m \u001b[0;34m\u001b[0m\u001b[0m\n\u001b[1;32m      5\u001b[0m         \u001b[0;32mfor\u001b[0m \u001b[0mline\u001b[0m \u001b[0;32min\u001b[0m \u001b[0mbatch\u001b[0m\u001b[0;34m:\u001b[0m\u001b[0;34m\u001b[0m\u001b[0;34m\u001b[0m\u001b[0m\n",
      "\u001b[0;32m/opt/anaconda3/envs/dca-3.8/lib/python3.8/site-packages/datasets/dataset_dict.py\u001b[0m in \u001b[0;36m__getitem__\u001b[0;34m(self, k)\u001b[0m\n\u001b[1;32m     41\u001b[0m             ]\n\u001b[1;32m     42\u001b[0m             \u001b[0msuggested_split\u001b[0m \u001b[0;34m=\u001b[0m \u001b[0mavailable_suggested_splits\u001b[0m\u001b[0;34m[\u001b[0m\u001b[0;36m0\u001b[0m\u001b[0;34m]\u001b[0m \u001b[0;32mif\u001b[0m \u001b[0mavailable_suggested_splits\u001b[0m \u001b[0;32melse\u001b[0m \u001b[0mlist\u001b[0m\u001b[0;34m(\u001b[0m\u001b[0mself\u001b[0m\u001b[0;34m)\u001b[0m\u001b[0;34m[\u001b[0m\u001b[0;36m0\u001b[0m\u001b[0;34m]\u001b[0m\u001b[0;34m\u001b[0m\u001b[0;34m\u001b[0m\u001b[0m\n\u001b[0;32m---> 43\u001b[0;31m             raise KeyError(\n\u001b[0m\u001b[1;32m     44\u001b[0m                 \u001b[0;34mf\"Invalid key: {k}. Please first select a split. For example: \"\u001b[0m\u001b[0;34m\u001b[0m\u001b[0;34m\u001b[0m\u001b[0m\n\u001b[1;32m     45\u001b[0m                 \u001b[0;34mf\"`my_dataset_dictionary['{suggested_split}'][{k}]`. \"\u001b[0m\u001b[0;34m\u001b[0m\u001b[0;34m\u001b[0m\u001b[0m\n",
      "\u001b[0;31mKeyError\u001b[0m: \"Invalid key: slice(1, None, None). Please first select a split. For example: `my_dataset_dictionary['train'][slice(1, None, None)]`. Available splits: ['test', 'train', 'validation']\""
     ]
    }
   ],
   "source": [
    "# Writer\n",
    "with tqdm(total=len(dataset[1:])) as pbar:\n",
    "    for batch in itertools.zip_longest(*[iter(dataset[1:])]*chunk_size):\n",
    "        batch = [b for b in batch if b is not None]\n",
    "\n",
    "        for line in batch:\n",
    "            data = {'id': int(line[0]),\n",
    "                    'sentence': str(line[1]),\n",
    "                    'label': list(map(float, line[5:13]))  # Writer Data\n",
    "                   }\n",
    "            alldata.append(data)\n",
    "    \n",
    "    pbar.update(len(batch))\n",
    "    time.sleep(1)\n",
    "\n",
    "pickle.dump(alldata, open(picklename, 'wb'))\n",
    "# alldata"
   ]
  },
  {
   "cell_type": "code",
   "execution_count": 20,
   "id": "61acb5fb-7ce5-4c81-b46a-604a20eff2c0",
   "metadata": {},
   "outputs": [
    {
     "name": "stderr",
     "output_type": "stream",
     "text": [
      "  0%|                                       | 100/43200 [00:01<08:29, 84.63it/s]\n"
     ]
    }
   ],
   "source": [
    "# Average\n",
    "with tqdm(total=len(dataset[1:])) as pbar:\n",
    "    for batch in itertools.zip_longest(*[iter(dataset[1:])]*chunk_size):\n",
    "        batch = [b for b in batch if b is not None]\n",
    "\n",
    "        for line in batch:\n",
    "            data = {'id': int(line[0]),\n",
    "                    'sentence': str(line[1]),\n",
    "                    'label': list(map(float, line[-8:]))  # Avg.Reader Data\n",
    "                   }\n",
    "            alldata.append(data)\n",
    "    \n",
    "    pbar.update(len(batch))\n",
    "    time.sleep(1)\n",
    "\n",
    "pickle.dump(alldata, open(picklename, 'wb'))\n",
    "# alldata"
   ]
  },
  {
   "cell_type": "code",
   "execution_count": 21,
   "id": "cec12a20-ee30-4479-99b5-c60b6b507475",
   "metadata": {},
   "outputs": [
    {
     "data": {
      "text/html": [
       "<div>\n",
       "<style scoped>\n",
       "    .dataframe tbody tr th:only-of-type {\n",
       "        vertical-align: middle;\n",
       "    }\n",
       "\n",
       "    .dataframe tbody tr th {\n",
       "        vertical-align: top;\n",
       "    }\n",
       "\n",
       "    .dataframe thead th {\n",
       "        text-align: right;\n",
       "    }\n",
       "</style>\n",
       "<table border=\"1\" class=\"dataframe\">\n",
       "  <thead>\n",
       "    <tr style=\"text-align: right;\">\n",
       "      <th></th>\n",
       "      <th>id</th>\n",
       "      <th>sentence</th>\n",
       "      <th>label</th>\n",
       "    </tr>\n",
       "  </thead>\n",
       "  <tbody>\n",
       "    <tr>\n",
       "      <th>0</th>\n",
       "      <td>0</td>\n",
       "      <td>ぼけっとしてたらこんな時間｡チャリあるから食べにでたいのに…</td>\n",
       "      <td>[0.0, 1.0, 0.0, 0.0, 0.0, 0.0, 0.0, 0.0]</td>\n",
       "    </tr>\n",
       "    <tr>\n",
       "      <th>1</th>\n",
       "      <td>1</td>\n",
       "      <td>今日の月も白くて明るい。昨日より雲が少なくてキレイな? と立ち止まる帰り道｡チャリなし生活も...</td>\n",
       "      <td>[0.0, 0.0, 0.0, 1.0, 0.0, 0.0, 0.0, 0.0]</td>\n",
       "    </tr>\n",
       "    <tr>\n",
       "      <th>2</th>\n",
       "      <td>2</td>\n",
       "      <td>早寝するつもりが飲み物がなくなりコンビニへ｡ん､今日、風が涼しいな。</td>\n",
       "      <td>[0.0, 0.0, 0.0, 0.0, 0.0, 0.0, 0.0, 0.0]</td>\n",
       "    </tr>\n",
       "    <tr>\n",
       "      <th>3</th>\n",
       "      <td>3</td>\n",
       "      <td>眠い、眠れない。</td>\n",
       "      <td>[0.0, 0.0, 0.0, 0.0, 0.0, 0.0, 0.0, 0.0]</td>\n",
       "    </tr>\n",
       "    <tr>\n",
       "      <th>4</th>\n",
       "      <td>4</td>\n",
       "      <td>ただいま? って新体操してるやん!外食する気満々で家に何もないのに!テレビから離れられない…!</td>\n",
       "      <td>[0.0, 0.0, 0.0, 0.0, 0.0, 0.0, 0.0, 0.0]</td>\n",
       "    </tr>\n",
       "  </tbody>\n",
       "</table>\n",
       "</div>"
      ],
      "text/plain": [
       "   id                                           sentence  \\\n",
       "0   0                     ぼけっとしてたらこんな時間｡チャリあるから食べにでたいのに…   \n",
       "1   1  今日の月も白くて明るい。昨日より雲が少なくてキレイな? と立ち止まる帰り道｡チャリなし生活も...   \n",
       "2   2                 早寝するつもりが飲み物がなくなりコンビニへ｡ん､今日、風が涼しいな。   \n",
       "3   3                                           眠い、眠れない。   \n",
       "4   4    ただいま? って新体操してるやん!外食する気満々で家に何もないのに!テレビから離れられない…!   \n",
       "\n",
       "                                      label  \n",
       "0  [0.0, 1.0, 0.0, 0.0, 0.0, 0.0, 0.0, 0.0]  \n",
       "1  [0.0, 0.0, 0.0, 1.0, 0.0, 0.0, 0.0, 0.0]  \n",
       "2  [0.0, 0.0, 0.0, 0.0, 0.0, 0.0, 0.0, 0.0]  \n",
       "3  [0.0, 0.0, 0.0, 0.0, 0.0, 0.0, 0.0, 0.0]  \n",
       "4  [0.0, 0.0, 0.0, 0.0, 0.0, 0.0, 0.0, 0.0]  "
      ]
     },
     "execution_count": 21,
     "metadata": {},
     "output_type": "execute_result"
    }
   ],
   "source": [
    "import pandas as pd\n",
    "df = pd.DataFrame.from_dict(pd.read_pickle(picklename))\n",
    "df.head()"
   ]
  },
  {
   "cell_type": "code",
   "execution_count": 22,
   "id": "78b87904-bc7e-491d-8c95-d1577a3315fa",
   "metadata": {},
   "outputs": [
    {
     "data": {
      "text/html": [
       "<div>\n",
       "<style scoped>\n",
       "    .dataframe tbody tr th:only-of-type {\n",
       "        vertical-align: middle;\n",
       "    }\n",
       "\n",
       "    .dataframe tbody tr th {\n",
       "        vertical-align: top;\n",
       "    }\n",
       "\n",
       "    .dataframe thead th {\n",
       "        text-align: right;\n",
       "    }\n",
       "</style>\n",
       "<table border=\"1\" class=\"dataframe\">\n",
       "  <thead>\n",
       "    <tr style=\"text-align: right;\">\n",
       "      <th></th>\n",
       "      <th>id</th>\n",
       "      <th>sentence</th>\n",
       "      <th>label</th>\n",
       "      <th>joy</th>\n",
       "      <th>sadness</th>\n",
       "      <th>anticipation</th>\n",
       "      <th>surprise</th>\n",
       "      <th>anger</th>\n",
       "      <th>fear</th>\n",
       "      <th>disgust</th>\n",
       "      <th>trust</th>\n",
       "    </tr>\n",
       "  </thead>\n",
       "  <tbody>\n",
       "    <tr>\n",
       "      <th>0</th>\n",
       "      <td>0</td>\n",
       "      <td>ぼけっとしてたらこんな時間｡チャリあるから食べにでたいのに…</td>\n",
       "      <td>[0.0, 1.0, 0.0, 0.0, 0.0, 0.0, 0.0, 0.0]</td>\n",
       "      <td>0.0</td>\n",
       "      <td>1.0</td>\n",
       "      <td>0.0</td>\n",
       "      <td>0.0</td>\n",
       "      <td>0.0</td>\n",
       "      <td>0.0</td>\n",
       "      <td>0.0</td>\n",
       "      <td>0.0</td>\n",
       "    </tr>\n",
       "    <tr>\n",
       "      <th>1</th>\n",
       "      <td>1</td>\n",
       "      <td>今日の月も白くて明るい。昨日より雲が少なくてキレイな? と立ち止まる帰り道｡チャリなし生活も...</td>\n",
       "      <td>[0.0, 0.0, 0.0, 1.0, 0.0, 0.0, 0.0, 0.0]</td>\n",
       "      <td>0.0</td>\n",
       "      <td>0.0</td>\n",
       "      <td>0.0</td>\n",
       "      <td>1.0</td>\n",
       "      <td>0.0</td>\n",
       "      <td>0.0</td>\n",
       "      <td>0.0</td>\n",
       "      <td>0.0</td>\n",
       "    </tr>\n",
       "    <tr>\n",
       "      <th>2</th>\n",
       "      <td>2</td>\n",
       "      <td>早寝するつもりが飲み物がなくなりコンビニへ｡ん､今日、風が涼しいな。</td>\n",
       "      <td>[0.0, 0.0, 0.0, 0.0, 0.0, 0.0, 0.0, 0.0]</td>\n",
       "      <td>0.0</td>\n",
       "      <td>0.0</td>\n",
       "      <td>0.0</td>\n",
       "      <td>0.0</td>\n",
       "      <td>0.0</td>\n",
       "      <td>0.0</td>\n",
       "      <td>0.0</td>\n",
       "      <td>0.0</td>\n",
       "    </tr>\n",
       "    <tr>\n",
       "      <th>3</th>\n",
       "      <td>3</td>\n",
       "      <td>眠い、眠れない。</td>\n",
       "      <td>[0.0, 0.0, 0.0, 0.0, 0.0, 0.0, 0.0, 0.0]</td>\n",
       "      <td>0.0</td>\n",
       "      <td>0.0</td>\n",
       "      <td>0.0</td>\n",
       "      <td>0.0</td>\n",
       "      <td>0.0</td>\n",
       "      <td>0.0</td>\n",
       "      <td>0.0</td>\n",
       "      <td>0.0</td>\n",
       "    </tr>\n",
       "    <tr>\n",
       "      <th>4</th>\n",
       "      <td>4</td>\n",
       "      <td>ただいま? って新体操してるやん!外食する気満々で家に何もないのに!テレビから離れられない…!</td>\n",
       "      <td>[0.0, 0.0, 0.0, 0.0, 0.0, 0.0, 0.0, 0.0]</td>\n",
       "      <td>0.0</td>\n",
       "      <td>0.0</td>\n",
       "      <td>0.0</td>\n",
       "      <td>0.0</td>\n",
       "      <td>0.0</td>\n",
       "      <td>0.0</td>\n",
       "      <td>0.0</td>\n",
       "      <td>0.0</td>\n",
       "    </tr>\n",
       "  </tbody>\n",
       "</table>\n",
       "</div>"
      ],
      "text/plain": [
       "   id                                           sentence  \\\n",
       "0   0                     ぼけっとしてたらこんな時間｡チャリあるから食べにでたいのに…   \n",
       "1   1  今日の月も白くて明るい。昨日より雲が少なくてキレイな? と立ち止まる帰り道｡チャリなし生活も...   \n",
       "2   2                 早寝するつもりが飲み物がなくなりコンビニへ｡ん､今日、風が涼しいな。   \n",
       "3   3                                           眠い、眠れない。   \n",
       "4   4    ただいま? って新体操してるやん!外食する気満々で家に何もないのに!テレビから離れられない…!   \n",
       "\n",
       "                                      label  joy  sadness  anticipation  \\\n",
       "0  [0.0, 1.0, 0.0, 0.0, 0.0, 0.0, 0.0, 0.0]  0.0      1.0           0.0   \n",
       "1  [0.0, 0.0, 0.0, 1.0, 0.0, 0.0, 0.0, 0.0]  0.0      0.0           0.0   \n",
       "2  [0.0, 0.0, 0.0, 0.0, 0.0, 0.0, 0.0, 0.0]  0.0      0.0           0.0   \n",
       "3  [0.0, 0.0, 0.0, 0.0, 0.0, 0.0, 0.0, 0.0]  0.0      0.0           0.0   \n",
       "4  [0.0, 0.0, 0.0, 0.0, 0.0, 0.0, 0.0, 0.0]  0.0      0.0           0.0   \n",
       "\n",
       "   surprise  anger  fear  disgust  trust  \n",
       "0       0.0    0.0   0.0      0.0    0.0  \n",
       "1       1.0    0.0   0.0      0.0    0.0  \n",
       "2       0.0    0.0   0.0      0.0    0.0  \n",
       "3       0.0    0.0   0.0      0.0    0.0  \n",
       "4       0.0    0.0   0.0      0.0    0.0  "
      ]
     },
     "execution_count": 22,
     "metadata": {},
     "output_type": "execute_result"
    }
   ],
   "source": [
    "# separate labels\n",
    "LABEL_COLUMNS = ['joy','sadness', 'anticipation', 'surprise', 'anger', 'fear', 'disgust', 'trust']\n",
    "\n",
    "df[LABEL_COLUMNS] = pd.DataFrame(df.label.tolist(), index= df.index)\n",
    "df.head()"
   ]
  },
  {
   "cell_type": "code",
   "execution_count": 23,
   "id": "902989cc-adc3-4bcd-876b-65ff59d58738",
   "metadata": {},
   "outputs": [
    {
     "data": {
      "text/plain": [
       "joy             5635.0\n",
       "sadness         3584.0\n",
       "anticipation    4868.0\n",
       "surprise        2717.0\n",
       "anger            543.0\n",
       "fear            2128.0\n",
       "disgust         1849.0\n",
       "trust            185.0\n",
       "dtype: float64"
      ]
     },
     "execution_count": 23,
     "metadata": {},
     "output_type": "execute_result"
    }
   ],
   "source": [
    "df[LABEL_COLUMNS].sum()"
   ]
  },
  {
   "cell_type": "code",
   "execution_count": 24,
   "id": "86b3347a-9669-4498-b1ac-e2c35f19834b",
   "metadata": {},
   "outputs": [
    {
     "data": {
      "text/plain": [
       "21509.0"
      ]
     },
     "execution_count": 24,
     "metadata": {},
     "output_type": "execute_result"
    }
   ],
   "source": [
    "# 1-3: 69176.0\n",
    "# 2-3: 21509.0\n",
    "np.sum(df[LABEL_COLUMNS].sum())"
   ]
  },
  {
   "cell_type": "code",
   "execution_count": 13,
   "id": "08d74081-673b-43e0-97ee-c2b0722950f7",
   "metadata": {},
   "outputs": [
    {
     "data": {
      "text/plain": [
       "<AxesSubplot:>"
      ]
     },
     "execution_count": 13,
     "metadata": {},
     "output_type": "execute_result"
    },
    {
     "data": {
      "image/png": "[encoded data removed]",
      "text/plain": [
       "<Figure size 432x288 with 1 Axes>"
      ]
     },
     "metadata": {
      "needs_background": "light"
     },
     "output_type": "display_data"
    }
   ],
   "source": [
    "df[LABEL_COLUMNS].sum().sort_values().plot(kind=\"barh\")"
   ]
  },
  {
   "cell_type": "code",
   "execution_count": 142,
   "id": "80a8447b-ceea-4906-94db-c4b4fe7b9213",
   "metadata": {},
   "outputs": [
    {
     "name": "stdout",
     "output_type": "stream",
     "text": [
      "FULL Dataset: 43200\n",
      "TRAIN Dataset: 34560\n",
      "TEST Dataset: 4320\n",
      "VALIDATION Dataset: 4320\n"
     ]
    }
   ],
   "source": [
    "# データセットの分割\n",
    "from sklearn.model_selection import train_test_split\n",
    "\n",
    "train_df, val_test_df = train_test_split(df, train_size=0.8, random_state=32)\n",
    "val_df, test_df = train_test_split(val_test_df, train_size=0.5, random_state=32)\n",
    "train_df, val_df, test_df = train_df.reset_index(drop=True), val_df.reset_index(drop=True), test_df.reset_index(drop=True)\n",
    "\n",
    "print(\"FULL Dataset: {}\".format(len(df)))\n",
    "print(\"TRAIN Dataset: {}\".format(len(train_df)))\n",
    "print(\"TEST Dataset: {}\".format(len(test_df)))\n",
    "print(\"VALIDATION Dataset: {}\".format(len(val_df)))\n"
   ]
  },
  {
   "cell_type": "code",
   "execution_count": 143,
   "id": "10d8e613-f2f9-4ae5-893e-ccd86f3d3fc6",
   "metadata": {},
   "outputs": [],
   "source": [
    "from datasets import Dataset, DatasetDict\n",
    "columns = [\"sentence\", \"label\"]\n",
    "dataset = DatasetDict({\n",
    "    \"train\": Dataset.from_pandas(train_df[columns]),\n",
    "    \"test\": Dataset.from_pandas(test_df[columns]),\n",
    "    \"validation\": Dataset.from_pandas(val_df[columns])\n",
    "})"
   ]
  },
  {
   "cell_type": "code",
   "execution_count": 146,
   "id": "f6518568-d2a1-4f03-bfa7-63f32293e3d4",
   "metadata": {},
   "outputs": [
    {
     "data": {
      "text/plain": [
       "{'sentence': ['あ、予約できたわ',\n",
       "  '【試作品発表のタイミング】\\\\n\\\\nα版（試作品）は、早く世の中に出して、使ってもらいながら意見を聞くのは良いかも。基本、無料で出すのが望ましいかも。\\\\n\\\\nただ、無料だからといって、ユーザーの時間を奪うものであってはならない。\\\\n批判をしっかりフィードバックして、β版を出したいところ。',\n",
       "  '紺色の布の裁断は終わったけど、白い布はテンションが上がらぬので、広げたまま放置なう！やる気とテンション、来い＼(^o^)／',\n",
       "  'えまー！！えまー！！ ねむーい！！あと14ふん！！',\n",
       "  '面接終わってあの時ああ言えばよかったって1人反省会になるんだけどもうその時間には戻れないから考えるのやめなきゃ'],\n",
       " 'label': [[0.0, 0.0, 0.0, 0.0, 0.0, 0.0, 0.0, 0.0],\n",
       "  [0.0, 0.0, 0.0, 0.0, 0.0, 0.0, 0.0, 0.0],\n",
       "  [0.0, 0.0, 0.0, 0.0, 0.0, 0.0, 0.0, 0.0],\n",
       "  [0.0, 0.0, 1.0, 0.0, 0.0, 0.0, 0.0, 0.0],\n",
       "  [0.0, 1.0, 0.0, 0.0, 0.0, 1.0, 0.0, 0.0]]}"
      ]
     },
     "execution_count": 146,
     "metadata": {},
     "output_type": "execute_result"
    }
   ],
   "source": [
    "dataset[\"train\"][:5]"
   ]
  },
  {
   "cell_type": "code",
   "execution_count": 144,
   "id": "726f3c3a-1eed-43f2-800a-c1aa8c7be52b",
   "metadata": {},
   "outputs": [
    {
     "name": "stderr",
     "output_type": "stream",
     "text": [
      "Neither PyTorch nor TensorFlow >= 2.0 have been found.Models won't be available and only tokenizers, configurationand file/data utilities can be used.\n"
     ]
    },
    {
     "ename": "ModuleNotFoundError",
     "evalue": "No module named 'torch'",
     "output_type": "error",
     "traceback": [
      "\u001b[0;31m---------------------------------------------------------------------------\u001b[0m",
      "\u001b[0;31mModuleNotFoundError\u001b[0m                       Traceback (most recent call last)",
      "\u001b[0;32m/var/folders/f4/vg8kf0cs5fxcv248s_99x8nw0000gn/T/ipykernel_16941/2057685225.py\u001b[0m in \u001b[0;36m<module>\u001b[0;34m\u001b[0m\n\u001b[1;32m      1\u001b[0m \u001b[0;32mimport\u001b[0m \u001b[0mtransformers\u001b[0m\u001b[0;34m\u001b[0m\u001b[0;34m\u001b[0m\u001b[0m\n\u001b[0;32m----> 2\u001b[0;31m \u001b[0;32mimport\u001b[0m \u001b[0mtorch\u001b[0m\u001b[0;34m\u001b[0m\u001b[0;34m\u001b[0m\u001b[0m\n\u001b[0m\u001b[1;32m      3\u001b[0m \u001b[0;34m\u001b[0m\u001b[0m\n\u001b[1;32m      4\u001b[0m \u001b[0mMAX_TOKEN_COUNT\u001b[0m \u001b[0;34m=\u001b[0m \u001b[0;36m128\u001b[0m \u001b[0;31m# 最大トークン数\u001b[0m\u001b[0;34m\u001b[0m\u001b[0;34m\u001b[0m\u001b[0m\n\u001b[1;32m      5\u001b[0m \u001b[0mTRAIN_BATCH_SIZE\u001b[0m \u001b[0;34m=\u001b[0m \u001b[0;36m32\u001b[0m \u001b[0;31m# train時のbatch数\u001b[0m\u001b[0;34m\u001b[0m\u001b[0;34m\u001b[0m\u001b[0m\n",
      "\u001b[0;31mModuleNotFoundError\u001b[0m: No module named 'torch'"
     ]
    }
   ],
   "source": [
    "import transformers\n",
    "import torch\n",
    "\n",
    "MAX_TOKEN_COUNT = 128 # 最大トークン数\n",
    "TRAIN_BATCH_SIZE = 32 # train時のbatch数\n",
    "VALID_BATCH_SIZE = 32 # validation時のbatch数\n",
    "EPOCHS = 5\n",
    "LEARNING_RATE = 1e-05\n",
    "\n",
    "MODEL_CHECKPOINT = \"cl-tohoku/bert-base-japanese-v2\""
   ]
  },
  {
   "cell_type": "code",
   "execution_count": 175,
   "id": "d71ea028-d3a8-46b1-9f78-55319bd87385",
   "metadata": {},
   "outputs": [],
   "source": [
    "from sklearn.metrics import accuracy_score\n",
    "import numpy as np"
   ]
  },
  {
   "cell_type": "code",
   "execution_count": 183,
   "id": "77626c16-0c2b-4768-b8cc-2fe30037c187",
   "metadata": {},
   "outputs": [
    {
     "data": {
      "text/plain": [
       "0.5"
      ]
     },
     "execution_count": 183,
     "metadata": {},
     "output_type": "execute_result"
    }
   ],
   "source": [
    "accuracy_score(np.array([[0, 1], [0, 1]]), np.array([[1, 1], [0, 1]]))"
   ]
  },
  {
   "cell_type": "code",
   "execution_count": 184,
   "id": "b2fd1c5c-f2da-4897-9570-ce095bc21c76",
   "metadata": {},
   "outputs": [],
   "source": [
    "def sigmoid(x):\n",
    "    return 1 / (1 + np.exp(-x))\n",
    "sigmoid_v = np.vectorize(sigmoid)"
   ]
  },
  {
   "cell_type": "code",
   "execution_count": 193,
   "id": "dac4fcad-22a7-47aa-88f7-7b1fd664a14d",
   "metadata": {},
   "outputs": [
    {
     "data": {
      "text/plain": [
       "array([[0.26894142, 0.5       , 0.62245933, 0.73105858],\n",
       "       [0.26894142, 0.73105858, 0.62245933, 0.5       ]])"
      ]
     },
     "execution_count": 193,
     "metadata": {},
     "output_type": "execute_result"
    }
   ],
   "source": [
    "sigmoid_v(np.array([[-1, 0, 0.5, 1], [-1, 1, 0.5, 0]]))"
   ]
  },
  {
   "cell_type": "code",
   "execution_count": 194,
   "id": "4a7e51b5-5263-4c1c-bd0e-9f6dcc458c00",
   "metadata": {},
   "outputs": [
    {
     "data": {
      "text/plain": [
       "array([[0.26894142, 0.5       , 0.62245933, 0.73105858],\n",
       "       [0.26894142, 0.73105858, 0.62245933, 0.5       ]])"
      ]
     },
     "execution_count": 194,
     "metadata": {},
     "output_type": "execute_result"
    }
   ],
   "source": [
    "sigmoid(np.array([[-1, 0, 0.5, 1], [-1, 1, 0.5, 0]]))"
   ]
  },
  {
   "cell_type": "code",
   "execution_count": null,
   "id": "5af2a405-8458-4f7e-b2d0-354d09b0a157",
   "metadata": {},
   "outputs": [],
   "source": []
  }
 ],
 "metadata": {
  "kernelspec": {
   "display_name": "Python 3 (ipykernel)",
   "language": "python",
   "name": "python3"
  },
  "language_info": {
   "codemirror_mode": {
    "name": "ipython",
    "version": 3
   },
   "file_extension": ".py",
   "mimetype": "text/x-python",
   "name": "python",
   "nbconvert_exporter": "python",
   "pygments_lexer": "ipython3",
   "version": "3.8.12"
  }
 },
 "nbformat": 4,
 "nbformat_minor": 5
}
