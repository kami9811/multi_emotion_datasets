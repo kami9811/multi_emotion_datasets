{
 "cells": [
  {
   "cell_type": "code",
   "execution_count": 3,
   "id": "54efdecf-4220-4c5b-9aa8-56d24455e713",
   "metadata": {},
   "outputs": [],
   "source": [
    "import csv\n",
    "tsv_files=[\n",
    "    'wrime.tsv',\n",
    "]\n",
    "for tsv_file in tsv_files:\n",
    "    tsv_f = open(tsv_file, 'r')\n",
    "    tsv = csv.reader(tsv_f, delimiter = '\\t')\n",
    "    with open(tsv_file + '.csv', 'w', newline=\"\") as csv_f:\n",
    "        writer = csv.writer(csv_f, delimiter=\",\")\n",
    "        for row in tsv:\n",
    "            writer.writerow(row)\n",
    "        csv_f.close()\n",
    "    tsv_f.close()\n"
   ]
  },
  {
   "cell_type": "code",
   "execution_count": null,
   "id": "a5afef5f-b693-4021-96ac-330ce5cbeea7",
   "metadata": {},
   "outputs": [],
   "source": []
  }
 ],
 "metadata": {
  "kernelspec": {
   "display_name": "Python 3 (ipykernel)",
   "language": "python",
   "name": "python3"
  },
  "language_info": {
   "codemirror_mode": {
    "name": "ipython",
    "version": 3
   },
   "file_extension": ".py",
   "mimetype": "text/x-python",
   "name": "python",
   "nbconvert_exporter": "python",
   "pygments_lexer": "ipython3",
   "version": "3.8.12"
  }
 },
 "nbformat": 4,
 "nbformat_minor": 5
}
